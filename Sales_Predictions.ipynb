{
  "nbformat": 4,
  "nbformat_minor": 0,
  "metadata": {
    "colab": {
      "provenance": [],
      "include_colab_link": true
    },
    "kernelspec": {
      "name": "python3",
      "display_name": "Python 3"
    },
    "language_info": {
      "name": "python"
    }
  },
  "cells": [
    {
      "cell_type": "markdown",
      "metadata": {
        "id": "view-in-github",
        "colab_type": "text"
      },
      "source": [
        "<a href=\"https://colab.research.google.com/github/MikeyTV3124/sales-predictions/blob/main/Sales_Predictions.ipynb\" target=\"_parent\"><img src=\"https://colab.research.google.com/assets/colab-badge.svg\" alt=\"Open In Colab\"/></a>"
      ]
    },
    {
      "cell_type": "markdown",
      "source": [
        "# Project 1 - Part 1\n",
        "Michael Vera\n"
      ],
      "metadata": {
        "id": "VNyoZqiOKqgT"
      }
    },
    {
      "cell_type": "code",
      "source": [],
      "metadata": {
        "id": "qmiJ3LtPKs-p"
      },
      "execution_count": null,
      "outputs": []
    },
    {
      "cell_type": "markdown",
      "source": [
        "## Loading Data\n"
      ],
      "metadata": {
        "id": "uTxRVOCbKtTy"
      }
    },
    {
      "cell_type": "code",
      "source": [],
      "metadata": {
        "id": "vC5VfiR2KwEa"
      },
      "execution_count": null,
      "outputs": []
    },
    {
      "cell_type": "markdown",
      "source": [
        "## Data Cleaning\n"
      ],
      "metadata": {
        "id": "4CP3a0EFKwvR"
      }
    },
    {
      "cell_type": "code",
      "source": [],
      "metadata": {
        "id": "QEf79kDpKzFB"
      },
      "execution_count": null,
      "outputs": []
    },
    {
      "cell_type": "markdown",
      "source": [
        "## Exploratory Visuals\n"
      ],
      "metadata": {
        "id": "o9p532PiKzSH"
      }
    },
    {
      "cell_type": "code",
      "source": [],
      "metadata": {
        "id": "wWTjXRkCK1uj"
      },
      "execution_count": null,
      "outputs": []
    },
    {
      "cell_type": "markdown",
      "source": [
        "## Explanatory Visuals"
      ],
      "metadata": {
        "id": "XcRA13ADK2AU"
      }
    },
    {
      "cell_type": "code",
      "source": [],
      "metadata": {
        "id": "EtWovTj4K3lz"
      },
      "execution_count": null,
      "outputs": []
    }
  ]
}